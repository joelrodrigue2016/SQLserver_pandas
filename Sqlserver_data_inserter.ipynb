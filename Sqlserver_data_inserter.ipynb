{
 "cells": [
  {
   "cell_type": "markdown",
   "id": "4067b4b4",
   "metadata": {},
   "source": [
    "# Microsoft SQL Server:\n",
    "is a relational database management system developed by Microsoft. As a database server, it is a software product with the primary function of storing and retrieving data as requested by other software applications—which may run either on the same computer or on another computer across a network. "
   ]
  },
  {
   "cell_type": "markdown",
   "id": "8ae6a64a",
   "metadata": {},
   "source": [
    "#### Load modules"
   ]
  },
  {
   "cell_type": "code",
   "execution_count": 38,
   "id": "780bbe68",
   "metadata": {},
   "outputs": [],
   "source": [
    "import pyodbc \n",
    "import pandas as pd\n",
    "import numpy as np\n",
    "from matplotlib import pyplot as plt\n",
    "from IPython.display import display\n",
    "#import pandas_profiling as pp\n",
    "pd.options.display.max_rows = None\n",
    "pd.options.display.max_columns = None"
   ]
  },
  {
   "cell_type": "markdown",
   "id": "2f0cbcd7",
   "metadata": {},
   "source": [
    "### Establishing connection"
   ]
  },
  {
   "cell_type": "code",
   "execution_count": 39,
   "id": "039bc063",
   "metadata": {},
   "outputs": [
    {
     "name": "stdout",
     "output_type": "stream",
     "text": [
      "Connection has been established!!!!!\n"
     ]
    }
   ],
   "source": [
    "try:\n",
    "    pd.set_option('display.max_columns', None)\n",
    "    conn = pyodbc.connect('Driver={SQL Server};'\n",
    "                          'Server=LAPTOP-8MGLLLEQ;'\n",
    "                          'Database=python_test;'\n",
    "                          'Trusted_Connection=yes;')\n",
    "    cursor = conn.cursor()\n",
    "    print(\"Connection has been established!!!!!\")\n",
    "    \n",
    "except:\n",
    "    print(\"------something went wrong------\")"
   ]
  },
  {
   "cell_type": "code",
   "execution_count": 17,
   "id": "9c19322d",
   "metadata": {},
   "outputs": [
    {
     "name": "stdout",
     "output_type": "stream",
     "text": [
      "Table has been created!!!\n"
     ]
    }
   ],
   "source": [
    "\n",
    "cursor = conn.cursor()\n",
    "\n",
    "cursor.execute(\"\"\"\n",
    "                    CREATE TABLE products (\n",
    "                    product_id int primary key,\n",
    "                    product_name nvarchar(50),\n",
    "                    price int\n",
    "                      )\n",
    "\n",
    "\n",
    "\n",
    "\"\"\")\n",
    "\n",
    "conn.commit()\n",
    "\n",
    "print(\"Table has been created!!!\")"
   ]
  },
  {
   "cell_type": "code",
   "execution_count": 43,
   "id": "1fda9333",
   "metadata": {},
   "outputs": [
    {
     "name": "stdout",
     "output_type": "stream",
     "text": [
      "Enter product id:     7\n",
      "Enter product Name:  Computer Table\n",
      "Enter price:    80\n"
     ]
    },
    {
     "ename": "ProgrammingError",
     "evalue": "Attempt to use a closed cursor.",
     "output_type": "error",
     "traceback": [
      "\u001b[1;31m---------------------------------------------------------------------------\u001b[0m",
      "\u001b[1;31mProgrammingError\u001b[0m                          Traceback (most recent call last)",
      "\u001b[1;32m~\\AppData\\Local\\Temp/ipykernel_10476/1081212425.py\u001b[0m in \u001b[0;36m<module>\u001b[1;34m\u001b[0m\n\u001b[0;32m      3\u001b[0m \u001b[0mprice\u001b[0m \u001b[1;33m=\u001b[0m \u001b[0minput\u001b[0m\u001b[1;33m(\u001b[0m\u001b[1;34m\"Enter price:    \"\u001b[0m\u001b[1;33m)\u001b[0m\u001b[1;33m\u001b[0m\u001b[1;33m\u001b[0m\u001b[0m\n\u001b[0;32m      4\u001b[0m \u001b[1;33m\u001b[0m\u001b[0m\n\u001b[1;32m----> 5\u001b[1;33m cursor.execute(f\"\"\"\n\u001b[0m\u001b[0;32m      6\u001b[0m                     \u001b[0mINSERT\u001b[0m \u001b[0mINTO\u001b[0m \u001b[0mproducts\u001b[0m \u001b[1;33m(\u001b[0m\u001b[0mproduct_id\u001b[0m\u001b[1;33m,\u001b[0m \u001b[0mproduct_name\u001b[0m\u001b[1;33m,\u001b[0m \u001b[0mprice\u001b[0m\u001b[1;33m)\u001b[0m\u001b[1;33m\u001b[0m\u001b[1;33m\u001b[0m\u001b[0m\n\u001b[0;32m      7\u001b[0m                     \u001b[0mVALUES\u001b[0m\u001b[1;33m\u001b[0m\u001b[1;33m\u001b[0m\u001b[0m\n",
      "\u001b[1;31mProgrammingError\u001b[0m: Attempt to use a closed cursor."
     ]
    }
   ],
   "source": [
    "product_id =  input(\"Enter product id:     \")\n",
    "product_name = input(\"Enter product Name:  \")\n",
    "price = input(\"Enter price:    \")\n",
    "\n",
    "cursor.execute(f\"\"\"\n",
    "                    INSERT INTO products (product_id, product_name, price)\n",
    "                    VALUES\n",
    "                    ({product_id},'{product_name}',{price})\n",
    "             \n",
    "\n",
    "\n",
    "\n",
    "\"\"\")\n",
    "conn.commit()\n",
    "print(\"Values have been entered into the database!!\")"
   ]
  },
  {
   "cell_type": "code",
   "execution_count": 41,
   "id": "f20f29b9",
   "metadata": {},
   "outputs": [
    {
     "data": {
      "text/html": [
       "<div>\n",
       "<style scoped>\n",
       "    .dataframe tbody tr th:only-of-type {\n",
       "        vertical-align: middle;\n",
       "    }\n",
       "\n",
       "    .dataframe tbody tr th {\n",
       "        vertical-align: top;\n",
       "    }\n",
       "\n",
       "    .dataframe thead th {\n",
       "        text-align: right;\n",
       "    }\n",
       "</style>\n",
       "<table border=\"1\" class=\"dataframe\">\n",
       "  <thead>\n",
       "    <tr style=\"text-align: right;\">\n",
       "      <th></th>\n",
       "      <th>product_id</th>\n",
       "      <th>product_name</th>\n",
       "      <th>price</th>\n",
       "    </tr>\n",
       "  </thead>\n",
       "  <tbody>\n",
       "    <tr>\n",
       "      <th>0</th>\n",
       "      <td>1</td>\n",
       "      <td>Desktop Computer</td>\n",
       "      <td>800</td>\n",
       "    </tr>\n",
       "    <tr>\n",
       "      <th>1</th>\n",
       "      <td>2</td>\n",
       "      <td>Tablet</td>\n",
       "      <td>1200</td>\n",
       "    </tr>\n",
       "    <tr>\n",
       "      <th>2</th>\n",
       "      <td>3</td>\n",
       "      <td>Tablet</td>\n",
       "      <td>200</td>\n",
       "    </tr>\n",
       "    <tr>\n",
       "      <th>3</th>\n",
       "      <td>4</td>\n",
       "      <td>Monitor</td>\n",
       "      <td>350</td>\n",
       "    </tr>\n",
       "    <tr>\n",
       "      <th>4</th>\n",
       "      <td>5</td>\n",
       "      <td>Printer</td>\n",
       "      <td>150</td>\n",
       "    </tr>\n",
       "    <tr>\n",
       "      <th>5</th>\n",
       "      <td>6</td>\n",
       "      <td>Memory ram</td>\n",
       "      <td>125</td>\n",
       "    </tr>\n",
       "  </tbody>\n",
       "</table>\n",
       "</div>"
      ],
      "text/plain": [
       "   product_id      product_name  price\n",
       "0           1  Desktop Computer    800\n",
       "1           2            Tablet   1200\n",
       "2           3            Tablet    200\n",
       "3           4           Monitor    350\n",
       "4           5           Printer    150\n",
       "5           6        Memory ram    125"
      ]
     },
     "metadata": {},
     "output_type": "display_data"
    }
   ],
   "source": [
    "query = \"\"\"\n",
    "select * from [dbo].[products]\n",
    "\n",
    "\"\"\"\n",
    "df = pd.read_sql(query, conn)\n",
    "\n",
    "display(df)"
   ]
  },
  {
   "cell_type": "code",
   "execution_count": 35,
   "id": "9d711d85",
   "metadata": {},
   "outputs": [
    {
     "data": {
      "text/html": [
       "<div>\n",
       "<style scoped>\n",
       "    .dataframe tbody tr th:only-of-type {\n",
       "        vertical-align: middle;\n",
       "    }\n",
       "\n",
       "    .dataframe tbody tr th {\n",
       "        vertical-align: top;\n",
       "    }\n",
       "\n",
       "    .dataframe thead th {\n",
       "        text-align: right;\n",
       "    }\n",
       "</style>\n",
       "<table border=\"1\" class=\"dataframe\">\n",
       "  <thead>\n",
       "    <tr style=\"text-align: right;\">\n",
       "      <th></th>\n",
       "      <th>product_id</th>\n",
       "      <th>price</th>\n",
       "    </tr>\n",
       "  </thead>\n",
       "  <tbody>\n",
       "    <tr>\n",
       "      <th>count</th>\n",
       "      <td>5.000000</td>\n",
       "      <td>5.000000</td>\n",
       "    </tr>\n",
       "    <tr>\n",
       "      <th>mean</th>\n",
       "      <td>3.000000</td>\n",
       "      <td>540.000000</td>\n",
       "    </tr>\n",
       "    <tr>\n",
       "      <th>std</th>\n",
       "      <td>1.581139</td>\n",
       "      <td>449.165894</td>\n",
       "    </tr>\n",
       "    <tr>\n",
       "      <th>min</th>\n",
       "      <td>1.000000</td>\n",
       "      <td>150.000000</td>\n",
       "    </tr>\n",
       "    <tr>\n",
       "      <th>25%</th>\n",
       "      <td>2.000000</td>\n",
       "      <td>200.000000</td>\n",
       "    </tr>\n",
       "    <tr>\n",
       "      <th>50%</th>\n",
       "      <td>3.000000</td>\n",
       "      <td>350.000000</td>\n",
       "    </tr>\n",
       "    <tr>\n",
       "      <th>75%</th>\n",
       "      <td>4.000000</td>\n",
       "      <td>800.000000</td>\n",
       "    </tr>\n",
       "    <tr>\n",
       "      <th>max</th>\n",
       "      <td>5.000000</td>\n",
       "      <td>1200.000000</td>\n",
       "    </tr>\n",
       "  </tbody>\n",
       "</table>\n",
       "</div>"
      ],
      "text/plain": [
       "       product_id        price\n",
       "count    5.000000     5.000000\n",
       "mean     3.000000   540.000000\n",
       "std      1.581139   449.165894\n",
       "min      1.000000   150.000000\n",
       "25%      2.000000   200.000000\n",
       "50%      3.000000   350.000000\n",
       "75%      4.000000   800.000000\n",
       "max      5.000000  1200.000000"
      ]
     },
     "execution_count": 35,
     "metadata": {},
     "output_type": "execute_result"
    }
   ],
   "source": [
    "df.describe()"
   ]
  },
  {
   "cell_type": "markdown",
   "id": "1750a74e",
   "metadata": {},
   "source": [
    "#### Converting data into json"
   ]
  },
  {
   "cell_type": "code",
   "execution_count": 36,
   "id": "243d9b91",
   "metadata": {},
   "outputs": [
    {
     "name": "stdout",
     "output_type": "stream",
     "text": [
      "{\"0\":{\"product_id\":1,\"product_name\":\"Desktop Computer\",\"price\":800},\"1\":{\"product_id\":2,\"product_name\":\"Tablet\",\"price\":1200},\"2\":{\"product_id\":3,\"product_name\":\"Tablet\",\"price\":200},\"3\":{\"product_id\":4,\"product_name\":\"Monitor\",\"price\":350},\"4\":{\"product_id\":5,\"product_name\":\"Printer\",\"price\":150}}\n"
     ]
    }
   ],
   "source": [
    "print(df.to_json(orient ='index'))"
   ]
  },
  {
   "cell_type": "markdown",
   "id": "cb96fa5b",
   "metadata": {},
   "source": [
    "# Make sure you close your connection.\n",
    "If we don't close the connection, it will lead to connection memory leakage. Unless/until application server/web server is shut down, connection will remain activate even though the user logs out.\n",
    "\n",
    "There are additional reasons. Suppose database server has 10 connections available and 10 clients request for the connection. If the database sever grants all of them, and after their usage they are not closed, the database server would not be able to provide a connections for another request. For that reason we need to close them - it is mandatory.\n",
    "\n",
    "Furthermore, it might lead to some mischievous activities regarding the integrity of the database. https://stackoverflow.com/questions/25864235/why-we-should-close-the-connection-in-jdbc-if-we-dont-do-it-what-will-happen"
   ]
  },
  {
   "cell_type": "code",
   "execution_count": 42,
   "id": "7d6d62ee",
   "metadata": {},
   "outputs": [
    {
     "name": "stdout",
     "output_type": "stream",
     "text": [
      "Connection has been closed!!\n"
     ]
    }
   ],
   "source": [
    "cursor = conn.cursor()\n",
    "cursor.close()\n",
    "print(\"Connection has been closed!!\")"
   ]
  },
  {
   "cell_type": "code",
   "execution_count": null,
   "id": "3b4e829c",
   "metadata": {},
   "outputs": [],
   "source": []
  }
 ],
 "metadata": {
  "kernelspec": {
   "display_name": "Python 3 (ipykernel)",
   "language": "python",
   "name": "python3"
  },
  "language_info": {
   "codemirror_mode": {
    "name": "ipython",
    "version": 3
   },
   "file_extension": ".py",
   "mimetype": "text/x-python",
   "name": "python",
   "nbconvert_exporter": "python",
   "pygments_lexer": "ipython3",
   "version": "3.8.12"
  }
 },
 "nbformat": 4,
 "nbformat_minor": 5
}
