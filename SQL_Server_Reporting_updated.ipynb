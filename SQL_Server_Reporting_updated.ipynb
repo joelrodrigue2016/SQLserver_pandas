{
 "cells": [
  {
   "cell_type": "markdown",
   "id": "0f5b03d7",
   "metadata": {},
   "source": [
    "# Microsoft SQL Server\n",
    "Microsoft SQL Server is a relational database management system developed by Microsoft. As a database server, it is a software product with the primary function of storing and retrieving data as requested by other software applications."
   ]
  },
  {
   "cell_type": "code",
   "execution_count": 92,
   "id": "d147f4f4",
   "metadata": {},
   "outputs": [],
   "source": [
    "import pyodbc \n",
    "import pandas as pd\n",
    "import numpy as np\n",
    "from matplotlib import pyplot as plt\n",
    "from IPython.display import display\n",
    "import os\n",
    "import pandas_profiling as pp"
   ]
  },
  {
   "cell_type": "markdown",
   "id": "85315e46",
   "metadata": {},
   "source": [
    "### This is the path where the document(s) can be found."
   ]
  },
  {
   "cell_type": "code",
   "execution_count": 93,
   "id": "05f41d4a-be30-40bb-b99e-d7c50cdb95d1",
   "metadata": {},
   "outputs": [],
   "source": [
    "cwd = os.getcwd()\n",
    "#cwd\n",
    "#'C:\\\\Users\\\\joel1'"
   ]
  },
  {
   "cell_type": "markdown",
   "id": "c442e18f",
   "metadata": {},
   "source": [
    "### Here we can make sure that the all rows and columns are displayed. "
   ]
  },
  {
   "cell_type": "code",
   "execution_count": 94,
   "id": "21e0f690-4720-4465-841c-5e806d5de443",
   "metadata": {},
   "outputs": [],
   "source": [
    "pd.options.display.max_rows = None\n",
    "pd.options.display.max_columns = None"
   ]
  },
  {
   "cell_type": "markdown",
   "id": "da876f51",
   "metadata": {},
   "source": [
    "### Establishing connection"
   ]
  },
  {
   "cell_type": "code",
   "execution_count": 95,
   "id": "da00b43c-9adc-4f1d-a5d6-e0f21ac88490",
   "metadata": {},
   "outputs": [
    {
     "name": "stdout",
     "output_type": "stream",
     "text": [
      "Connection established!\n"
     ]
    }
   ],
   "source": [
    "Driver= 'SQL Server'  ## This is the type of database engine\n",
    "Server= 'DESKTOP-5UQEVT5\\SQLEXPRESS'   ##id info\n",
    "Database='mydatabase'            ##Database name\n",
    "Trusted_Connection='yes'\n",
    "\n",
    "conn = pyodbc.connect(f\"\"\"Driver={Driver};\n",
    "                      Server={Server};\n",
    "                      Database={Database};\n",
    "                      Trusted_Connection={Trusted_Connection};\"\"\")\n",
    "\n",
    "cursor = conn.cursor()\n",
    "print(\"Connection established!\")"
   ]
  },
  {
   "cell_type": "markdown",
   "id": "f10ab1fc",
   "metadata": {},
   "source": [
    "### insert your query inside the query space"
   ]
  },
  {
   "cell_type": "code",
   "execution_count": 96,
   "id": "72845ba6-855f-41ad-bad4-db5f8e1f2f3f",
   "metadata": {},
   "outputs": [
    {
     "data": {
      "text/html": [
       "<div>\n",
       "<style scoped>\n",
       "    .dataframe tbody tr th:only-of-type {\n",
       "        vertical-align: middle;\n",
       "    }\n",
       "\n",
       "    .dataframe tbody tr th {\n",
       "        vertical-align: top;\n",
       "    }\n",
       "\n",
       "    .dataframe thead th {\n",
       "        text-align: right;\n",
       "    }\n",
       "</style>\n",
       "<table border=\"1\" class=\"dataframe\">\n",
       "  <thead>\n",
       "    <tr style=\"text-align: right;\">\n",
       "      <th></th>\n",
       "      <th>color</th>\n",
       "      <th>amount</th>\n",
       "    </tr>\n",
       "  </thead>\n",
       "  <tbody>\n",
       "    <tr>\n",
       "      <th>0</th>\n",
       "      <td>Black</td>\n",
       "      <td>93</td>\n",
       "    </tr>\n",
       "    <tr>\n",
       "      <th>1</th>\n",
       "      <td>Blue</td>\n",
       "      <td>26</td>\n",
       "    </tr>\n",
       "    <tr>\n",
       "      <th>2</th>\n",
       "      <td>Grey</td>\n",
       "      <td>1</td>\n",
       "    </tr>\n",
       "    <tr>\n",
       "      <th>3</th>\n",
       "      <td>Multi</td>\n",
       "      <td>8</td>\n",
       "    </tr>\n",
       "    <tr>\n",
       "      <th>4</th>\n",
       "      <td>Red</td>\n",
       "      <td>38</td>\n",
       "    </tr>\n",
       "    <tr>\n",
       "      <th>5</th>\n",
       "      <td>Silver</td>\n",
       "      <td>43</td>\n",
       "    </tr>\n",
       "    <tr>\n",
       "      <th>6</th>\n",
       "      <td>Silver/Black</td>\n",
       "      <td>7</td>\n",
       "    </tr>\n",
       "    <tr>\n",
       "      <th>7</th>\n",
       "      <td>White</td>\n",
       "      <td>4</td>\n",
       "    </tr>\n",
       "    <tr>\n",
       "      <th>8</th>\n",
       "      <td>Yellow</td>\n",
       "      <td>36</td>\n",
       "    </tr>\n",
       "  </tbody>\n",
       "</table>\n",
       "</div>"
      ],
      "text/plain": [
       "          color  amount\n",
       "0         Black      93\n",
       "1          Blue      26\n",
       "2          Grey       1\n",
       "3         Multi       8\n",
       "4           Red      38\n",
       "5        Silver      43\n",
       "6  Silver/Black       7\n",
       "7         White       4\n",
       "8        Yellow      36"
      ]
     },
     "metadata": {},
     "output_type": "display_data"
    }
   ],
   "source": [
    "\n",
    "query =f\"\"\"\n",
    "\n",
    "\n",
    "select --top 2\n",
    "color,COUNT(Color) as amount \n",
    "from   [dbo].[Product]\n",
    "where Color != ''\n",
    "group by color\n",
    "\n",
    "\n",
    "\n",
    "\"\"\"\n",
    "df = pd.read_sql(query, conn)\n",
    "\n",
    "display(df)"
   ]
  },
  {
   "cell_type": "code",
   "execution_count": 97,
   "id": "38c91599",
   "metadata": {},
   "outputs": [
    {
     "data": {
      "image/png": "[encoded data removed]",
      "text/plain": [
       "<Figure size 432x288 with 1 Axes>"
      ]
     },
     "metadata": {},
     "output_type": "display_data"
    }
   ],
   "source": [
    "from matplotlib import pyplot as plt\n",
    "import numpy as np\n",
    "fig = plt.figure()\n",
    "ax = fig.add_axes([0.5,0,1,1])\n",
    "ax.axis('equal')\n",
    "labels = df[\"color\"]\n",
    "sizes = df[\"amount\"]\n",
    "ax.pie(sizes, labels = labels,autopct='%1.1f%%')\n",
    "plt.show()"
   ]
  },
  {
   "cell_type": "markdown",
   "id": "944f7c80",
   "metadata": {},
   "source": [
    "### This function will populate some brief but powerful statistical data."
   ]
  },
  {
   "cell_type": "code",
   "execution_count": 98,
   "id": "c162ca0a-a6cf-4726-9465-3002c24cb950",
   "metadata": {},
   "outputs": [
    {
     "data": {
      "text/html": [
       "<div>\n",
       "<style scoped>\n",
       "    .dataframe tbody tr th:only-of-type {\n",
       "        vertical-align: middle;\n",
       "    }\n",
       "\n",
       "    .dataframe tbody tr th {\n",
       "        vertical-align: top;\n",
       "    }\n",
       "\n",
       "    .dataframe thead th {\n",
       "        text-align: right;\n",
       "    }\n",
       "</style>\n",
       "<table border=\"1\" class=\"dataframe\">\n",
       "  <thead>\n",
       "    <tr style=\"text-align: right;\">\n",
       "      <th></th>\n",
       "      <th>amount</th>\n",
       "    </tr>\n",
       "  </thead>\n",
       "  <tbody>\n",
       "    <tr>\n",
       "      <th>count</th>\n",
       "      <td>9.000000</td>\n",
       "    </tr>\n",
       "    <tr>\n",
       "      <th>mean</th>\n",
       "      <td>28.444444</td>\n",
       "    </tr>\n",
       "    <tr>\n",
       "      <th>std</th>\n",
       "      <td>29.073661</td>\n",
       "    </tr>\n",
       "    <tr>\n",
       "      <th>min</th>\n",
       "      <td>1.000000</td>\n",
       "    </tr>\n",
       "    <tr>\n",
       "      <th>25%</th>\n",
       "      <td>7.000000</td>\n",
       "    </tr>\n",
       "    <tr>\n",
       "      <th>50%</th>\n",
       "      <td>26.000000</td>\n",
       "    </tr>\n",
       "    <tr>\n",
       "      <th>75%</th>\n",
       "      <td>38.000000</td>\n",
       "    </tr>\n",
       "    <tr>\n",
       "      <th>max</th>\n",
       "      <td>93.000000</td>\n",
       "    </tr>\n",
       "  </tbody>\n",
       "</table>\n",
       "</div>"
      ],
      "text/plain": [
       "          amount\n",
       "count   9.000000\n",
       "mean   28.444444\n",
       "std    29.073661\n",
       "min     1.000000\n",
       "25%     7.000000\n",
       "50%    26.000000\n",
       "75%    38.000000\n",
       "max    93.000000"
      ]
     },
     "execution_count": 98,
     "metadata": {},
     "output_type": "execute_result"
    }
   ],
   "source": [
    "\n",
    "df.describe()\n"
   ]
  },
  {
   "cell_type": "markdown",
   "id": "d213e01e",
   "metadata": {},
   "source": [
    "### Convert your results into a Json file"
   ]
  },
  {
   "cell_type": "code",
   "execution_count": 99,
   "id": "0a84aa7d-7e42-428b-8d72-3c555f925e7a",
   "metadata": {},
   "outputs": [
    {
     "name": "stdout",
     "output_type": "stream",
     "text": [
      "{\"schema\":{\"fields\":[{\"name\":\"index\",\"type\":\"integer\"},{\"name\":\"color\",\"type\":\"string\"},{\"name\":\"amount\",\"type\":\"integer\"}],\"primaryKey\":[\"index\"],\"pandas_version\":\"0.20.0\"},\"data\":[{\"index\":0,\"color\":\"Black\",\"amount\":93},{\"index\":1,\"color\":\"Blue\",\"amount\":26},{\"index\":2,\"color\":\"Grey\",\"amount\":1},{\"index\":3,\"color\":\"Multi\",\"amount\":8},{\"index\":4,\"color\":\"Red\",\"amount\":38},{\"index\":5,\"color\":\"Silver\",\"amount\":43},{\"index\":6,\"color\":\"Silver\\/Black\",\"amount\":7},{\"index\":7,\"color\":\"White\",\"amount\":4},{\"index\":8,\"color\":\"Yellow\",\"amount\":36}]}\n"
     ]
    }
   ],
   "source": [
    "### table, records,split,index,columns,values\n",
    "print(df.to_json(orient ='table'))"
   ]
  },
  {
   "cell_type": "markdown",
   "id": "da71d27a",
   "metadata": {},
   "source": [
    "### Save your results into a Json file"
   ]
  },
  {
   "cell_type": "code",
   "execution_count": 100,
   "id": "2c4b42e7-e48c-4b8c-b0db-cd2345f709e8",
   "metadata": {},
   "outputs": [],
   "source": [
    "df.to_json (r'C:\\\\Users\\\\joel1\\\\test.json')\n",
    "df.to_csv('test.csv')"
   ]
  },
  {
   "cell_type": "markdown",
   "id": "c80f471c",
   "metadata": {},
   "source": [
    "### Prepare an extensive profile of your data"
   ]
  },
  {
   "cell_type": "code",
   "execution_count": 101,
   "id": "9a1e5bde-856c-4950-ad7f-339e7f20bf73",
   "metadata": {},
   "outputs": [],
   "source": [
    "#profile = pp.ProfileReport(df)\n",
    "#profile.to_file(\"output1.html\")"
   ]
  },
  {
   "cell_type": "markdown",
   "id": "97c12276",
   "metadata": {},
   "source": [
    "# Make sure you close your connection.\n",
    "\n",
    "If we don't close the connection, it will lead to connection memory leakage. Unless/until application server/web server is shut down, connection will remain activate even though the user logs out.\n",
    "\n",
    "There are additional reasons. Suppose database server has 10 connections available and 10 clients request for the connection. If the database sever grants all of them, and after their usage they are not closed, the database server would not be able to provide a connections for another request. For that reason we need to close them - it is mandatory.\n",
    "\n",
    "Furthermore, it might lead to some mischievous activities regarding the integrity of the database.\n",
    "<a id='https://stackoverflow.com/questions/25864235/why-we-should-close-the-connection-in-jdbc-if-we-dont-do-it-what-will-happen'></a>\n",
    "https://stackoverflow.com/questions/25864235/why-we-should-close-the-connection-in-jdbc-if-we-dont-do-it-what-will-happen"
   ]
  },
  {
   "cell_type": "code",
   "execution_count": 102,
   "id": "6d14caf3-bb25-4915-a34d-b2b54ee9da28",
   "metadata": {},
   "outputs": [
    {
     "name": "stdout",
     "output_type": "stream",
     "text": [
      "Connection has been closed!!\n"
     ]
    }
   ],
   "source": [
    "csr = conn.cursor()  \n",
    "csr.close()\n",
    "conn.close()     #<--- Close the connection\n",
    "print(\"Connection has been closed!!\")"
   ]
  },
  {
   "cell_type": "code",
   "execution_count": null,
   "id": "9cfe457a",
   "metadata": {},
   "outputs": [],
   "source": []
  }
 ],
 "metadata": {
  "kernelspec": {
   "display_name": "Python 3",
   "language": "python",
   "name": "python3"
  },
  "language_info": {
   "codemirror_mode": {
    "name": "ipython",
    "version": 3
   },
   "file_extension": ".py",
   "mimetype": "text/x-python",
   "name": "python",
   "nbconvert_exporter": "python",
   "pygments_lexer": "ipython3",
   "version": "3.8.8"
  }
 },
 "nbformat": 4,
 "nbformat_minor": 5
}
