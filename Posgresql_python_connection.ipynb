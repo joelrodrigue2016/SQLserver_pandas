{
 "cells": [
  {
   "cell_type": "markdown",
   "id": "fe4c23ae",
   "metadata": {},
   "source": [
    "# Postgresql connection with python\n",
    "PostgreSQL, also known as Postgres, is a free and open-source relational database management system emphasizing extensibility and SQL compliance. It was originally named POSTGRES, referring to its origins as a successor to the Ingres database developed at the University of California, Berkeley."
   ]
  },
  {
   "cell_type": "code",
   "execution_count": 79,
   "id": "4ee65764",
   "metadata": {},
   "outputs": [
    {
     "name": "stdout",
     "output_type": "stream",
     "text": [
      "Opened database successfully\n"
     ]
    }
   ],
   "source": [
    "#!/usr/bin/python\n",
    "\n",
    "try:\n",
    "    import psycopg2\n",
    "    import pandas as pd\n",
    "    import pandas.io.sql as psql\n",
    "    import numpy as np\n",
    "    from matplotlib import pyplot as plt\n",
    "    from IPython.display import display\n",
    "    import os\n",
    "    import pandas_profiling as pp\n",
    "\n",
    "\n",
    "\n",
    "\n",
    "    database = \"practical_sql\"\n",
    "    user = \"postgres\"\n",
    "    password = 3715\n",
    "    host = \"localhost\"\n",
    "    port = \"5432\"\n",
    "\n",
    "    conn = psycopg2.connect(database = database, user = user, password =password, host = host, port = port)\n",
    "\n",
    "    print (\"Opened database successfully\")\n",
    "\n",
    "except:\n",
    "    print(\"------something went wrong------\")\n",
    " \n",
    "\n",
    "\n",
    "\n",
    "\n"
   ]
  },
  {
   "cell_type": "markdown",
   "id": "55f602b8",
   "metadata": {},
   "source": [
    "### Here we can make sure that the all rows and columns are displayed."
   ]
  },
  {
   "cell_type": "code",
   "execution_count": 80,
   "id": "afa98e83",
   "metadata": {},
   "outputs": [],
   "source": [
    "pd.options.display.max_rows = None\n",
    "pd.options.display.max_columns = None"
   ]
  },
  {
   "cell_type": "markdown",
   "id": "b5c60ef5",
   "metadata": {},
   "source": [
    "### Only use this in order to create tables"
   ]
  },
  {
   "cell_type": "code",
   "execution_count": 83,
   "id": "3f4272c7",
   "metadata": {},
   "outputs": [
    {
     "data": {
      "text/plain": [
       "'cur = conn.cursor()\\ncur.execute(\\'\\'\\'CREATE TABLE COMPANY\\n      (ID INT PRIMARY KEY     NOT NULL,\\n      NAME           TEXT    NOT NULL,\\n      AGE            INT     NOT NULL,\\n      ADDRESS        CHAR(50),\\n      SALARY         REAL);\\'\\'\\')\\nprint \"Table created successfully'"
      ]
     },
     "execution_count": 83,
     "metadata": {},
     "output_type": "execute_result"
    }
   ],
   "source": [
    "###use this query to create tables\n",
    "\"\"\"cur = conn.cursor()\n",
    "cur.execute('''CREATE TABLE COMPANY\n",
    "      (ID INT PRIMARY KEY     NOT NULL,\n",
    "      NAME           TEXT    NOT NULL,\n",
    "      AGE            INT     NOT NULL,\n",
    "      ADDRESS        CHAR(50),\n",
    "      SALARY         REAL);''')\n",
    "print \"Table created successfully\"\"\""
   ]
  },
  {
   "cell_type": "markdown",
   "id": "1c388881",
   "metadata": {},
   "source": [
    "### Run queries"
   ]
  },
  {
   "cell_type": "code",
   "execution_count": 69,
   "id": "41310726",
   "metadata": {
    "scrolled": true
   },
   "outputs": [
    {
     "data": {
      "text/html": [
       "<div>\n",
       "<style scoped>\n",
       "    .dataframe tbody tr th:only-of-type {\n",
       "        vertical-align: middle;\n",
       "    }\n",
       "\n",
       "    .dataframe tbody tr th {\n",
       "        vertical-align: top;\n",
       "    }\n",
       "\n",
       "    .dataframe thead th {\n",
       "        text-align: right;\n",
       "    }\n",
       "</style>\n",
       "<table border=\"1\" class=\"dataframe\">\n",
       "  <thead>\n",
       "    <tr style=\"text-align: right;\">\n",
       "      <th></th>\n",
       "      <th>st</th>\n",
       "      <th>city</th>\n",
       "      <th>population</th>\n",
       "      <th>violent_crime</th>\n",
       "      <th>property_crime</th>\n",
       "      <th>burglary</th>\n",
       "      <th>larceny_theft</th>\n",
       "      <th>motor_vehicle_theft</th>\n",
       "    </tr>\n",
       "  </thead>\n",
       "  <tbody>\n",
       "    <tr>\n",
       "      <th>0</th>\n",
       "      <td>Alabama</td>\n",
       "      <td>Abbeville</td>\n",
       "      <td>2610</td>\n",
       "      <td>9</td>\n",
       "      <td>76</td>\n",
       "      <td>24</td>\n",
       "      <td>50</td>\n",
       "      <td>2</td>\n",
       "    </tr>\n",
       "    <tr>\n",
       "      <th>1</th>\n",
       "      <td>Alabama</td>\n",
       "      <td>Adamsville</td>\n",
       "      <td>4414</td>\n",
       "      <td>25</td>\n",
       "      <td>330</td>\n",
       "      <td>38</td>\n",
       "      <td>278</td>\n",
       "      <td>14</td>\n",
       "    </tr>\n",
       "    <tr>\n",
       "      <th>2</th>\n",
       "      <td>Alabama</td>\n",
       "      <td>Addison</td>\n",
       "      <td>748</td>\n",
       "      <td>4</td>\n",
       "      <td>28</td>\n",
       "      <td>11</td>\n",
       "      <td>15</td>\n",
       "      <td>2</td>\n",
       "    </tr>\n",
       "    <tr>\n",
       "      <th>3</th>\n",
       "      <td>Alabama</td>\n",
       "      <td>Alabaster</td>\n",
       "      <td>31821</td>\n",
       "      <td>132</td>\n",
       "      <td>534</td>\n",
       "      <td>64</td>\n",
       "      <td>441</td>\n",
       "      <td>29</td>\n",
       "    </tr>\n",
       "    <tr>\n",
       "      <th>4</th>\n",
       "      <td>Alabama</td>\n",
       "      <td>Albertville</td>\n",
       "      <td>21534</td>\n",
       "      <td>30</td>\n",
       "      <td>723</td>\n",
       "      <td>197</td>\n",
       "      <td>462</td>\n",
       "      <td>64</td>\n",
       "    </tr>\n",
       "  </tbody>\n",
       "</table>\n",
       "</div>"
      ],
      "text/plain": [
       "        st         city  population  violent_crime  property_crime  burglary  \\\n",
       "0  Alabama    Abbeville        2610              9              76        24   \n",
       "1  Alabama   Adamsville        4414             25             330        38   \n",
       "2  Alabama      Addison         748              4              28        11   \n",
       "3  Alabama    Alabaster       31821            132             534        64   \n",
       "4  Alabama  Albertville       21534             30             723       197   \n",
       "\n",
       "   larceny_theft  motor_vehicle_theft  \n",
       "0             50                    2  \n",
       "1            278                   14  \n",
       "2             15                    2  \n",
       "3            441                   29  \n",
       "4            462                   64  "
      ]
     },
     "execution_count": 69,
     "metadata": {},
     "output_type": "execute_result"
    }
   ],
   "source": [
    "query = \"\"\"\n",
    "\n",
    "select * \n",
    "from fbi_crime_data_2015\n",
    "limit 5\n",
    "\n",
    "\n",
    "\"\"\"\n",
    "\n",
    "data = psql.read_sql(query, conn)\n",
    "data"
   ]
  },
  {
   "cell_type": "code",
   "execution_count": 84,
   "id": "488821d0",
   "metadata": {},
   "outputs": [
    {
     "data": {
      "text/html": [
       "<div>\n",
       "<style scoped>\n",
       "    .dataframe tbody tr th:only-of-type {\n",
       "        vertical-align: middle;\n",
       "    }\n",
       "\n",
       "    .dataframe tbody tr th {\n",
       "        vertical-align: top;\n",
       "    }\n",
       "\n",
       "    .dataframe thead th {\n",
       "        text-align: right;\n",
       "    }\n",
       "</style>\n",
       "<table border=\"1\" class=\"dataframe\">\n",
       "  <thead>\n",
       "    <tr style=\"text-align: right;\">\n",
       "      <th></th>\n",
       "      <th>st</th>\n",
       "      <th>city</th>\n",
       "      <th>population</th>\n",
       "      <th>violent_crime</th>\n",
       "      <th>property_crime</th>\n",
       "      <th>burglary</th>\n",
       "      <th>larceny_theft</th>\n",
       "      <th>motor_vehicle_theft</th>\n",
       "    </tr>\n",
       "  </thead>\n",
       "  <tbody>\n",
       "    <tr>\n",
       "      <th>0</th>\n",
       "      <td>Alabama</td>\n",
       "      <td>Abbeville</td>\n",
       "      <td>2610</td>\n",
       "      <td>9</td>\n",
       "      <td>76</td>\n",
       "      <td>24</td>\n",
       "      <td>50</td>\n",
       "      <td>2</td>\n",
       "    </tr>\n",
       "    <tr>\n",
       "      <th>1</th>\n",
       "      <td>Alabama</td>\n",
       "      <td>Adamsville</td>\n",
       "      <td>4414</td>\n",
       "      <td>25</td>\n",
       "      <td>330</td>\n",
       "      <td>38</td>\n",
       "      <td>278</td>\n",
       "      <td>14</td>\n",
       "    </tr>\n",
       "    <tr>\n",
       "      <th>2</th>\n",
       "      <td>Alabama</td>\n",
       "      <td>Addison</td>\n",
       "      <td>748</td>\n",
       "      <td>4</td>\n",
       "      <td>28</td>\n",
       "      <td>11</td>\n",
       "      <td>15</td>\n",
       "      <td>2</td>\n",
       "    </tr>\n",
       "    <tr>\n",
       "      <th>3</th>\n",
       "      <td>Alabama</td>\n",
       "      <td>Alabaster</td>\n",
       "      <td>31821</td>\n",
       "      <td>132</td>\n",
       "      <td>534</td>\n",
       "      <td>64</td>\n",
       "      <td>441</td>\n",
       "      <td>29</td>\n",
       "    </tr>\n",
       "    <tr>\n",
       "      <th>4</th>\n",
       "      <td>Alabama</td>\n",
       "      <td>Albertville</td>\n",
       "      <td>21534</td>\n",
       "      <td>30</td>\n",
       "      <td>723</td>\n",
       "      <td>197</td>\n",
       "      <td>462</td>\n",
       "      <td>64</td>\n",
       "    </tr>\n",
       "  </tbody>\n",
       "</table>\n",
       "</div>"
      ],
      "text/plain": [
       "        st         city  population  violent_crime  property_crime  burglary  \\\n",
       "0  Alabama    Abbeville        2610              9              76        24   \n",
       "1  Alabama   Adamsville        4414             25             330        38   \n",
       "2  Alabama      Addison         748              4              28        11   \n",
       "3  Alabama    Alabaster       31821            132             534        64   \n",
       "4  Alabama  Albertville       21534             30             723       197   \n",
       "\n",
       "   larceny_theft  motor_vehicle_theft  \n",
       "0             50                    2  \n",
       "1            278                   14  \n",
       "2             15                    2  \n",
       "3            441                   29  \n",
       "4            462                   64  "
      ]
     },
     "execution_count": 84,
     "metadata": {},
     "output_type": "execute_result"
    }
   ],
   "source": [
    "query = \"\"\"\n",
    "\n",
    "select * \n",
    "from fbi_crime_data_2015\n",
    "limit 5\n",
    "\n",
    "\n",
    "\"\"\"\n",
    "\n",
    "dataframe = psql.read_sql(query, conn)\n",
    "dataframe"
   ]
  },
  {
   "cell_type": "code",
   "execution_count": 85,
   "id": "366e8cde",
   "metadata": {},
   "outputs": [
    {
     "data": {
      "text/html": [
       "<div>\n",
       "<style scoped>\n",
       "    .dataframe tbody tr th:only-of-type {\n",
       "        vertical-align: middle;\n",
       "    }\n",
       "\n",
       "    .dataframe tbody tr th {\n",
       "        vertical-align: top;\n",
       "    }\n",
       "\n",
       "    .dataframe thead th {\n",
       "        text-align: right;\n",
       "    }\n",
       "</style>\n",
       "<table border=\"1\" class=\"dataframe\">\n",
       "  <thead>\n",
       "    <tr style=\"text-align: right;\">\n",
       "      <th></th>\n",
       "      <th>gid</th>\n",
       "      <th>linearid</th>\n",
       "      <th>fullname</th>\n",
       "      <th>rttyp</th>\n",
       "      <th>mtfcc</th>\n",
       "      <th>geom</th>\n",
       "    </tr>\n",
       "  </thead>\n",
       "  <tbody>\n",
       "    <tr>\n",
       "      <th>0</th>\n",
       "      <td>1</td>\n",
       "      <td>1103671872380</td>\n",
       "      <td>Southfork Exd</td>\n",
       "      <td>M</td>\n",
       "      <td>S1400</td>\n",
       "      <td>0105000020AD10000001000000010200000046000000F4...</td>\n",
       "    </tr>\n",
       "    <tr>\n",
       "      <th>1</th>\n",
       "      <td>2</td>\n",
       "      <td>1103670118522</td>\n",
       "      <td>Swartz Ln Exd</td>\n",
       "      <td>M</td>\n",
       "      <td>S1400</td>\n",
       "      <td>0105000020AD10000001000000010200000015000000BD...</td>\n",
       "    </tr>\n",
       "    <tr>\n",
       "      <th>2</th>\n",
       "      <td>3</td>\n",
       "      <td>1101039811928</td>\n",
       "      <td>E Pine Exd</td>\n",
       "      <td>M</td>\n",
       "      <td>S1400</td>\n",
       "      <td>0105000020AD1000000100000001020000002100000000...</td>\n",
       "    </tr>\n",
       "    <tr>\n",
       "      <th>3</th>\n",
       "      <td>4</td>\n",
       "      <td>1102210805539</td>\n",
       "      <td>Pine Exn</td>\n",
       "      <td>M</td>\n",
       "      <td>S1640</td>\n",
       "      <td>0105000020AD1000000100000001020000000200000019...</td>\n",
       "    </tr>\n",
       "    <tr>\n",
       "      <th>4</th>\n",
       "      <td>5</td>\n",
       "      <td>1102210805533</td>\n",
       "      <td>E Pine Exn</td>\n",
       "      <td>M</td>\n",
       "      <td>S1640</td>\n",
       "      <td>0105000020AD1000000100000001020000000200000019...</td>\n",
       "    </tr>\n",
       "  </tbody>\n",
       "</table>\n",
       "</div>"
      ],
      "text/plain": [
       "   gid       linearid       fullname rttyp  mtfcc  \\\n",
       "0    1  1103671872380  Southfork Exd     M  S1400   \n",
       "1    2  1103670118522  Swartz Ln Exd     M  S1400   \n",
       "2    3  1101039811928     E Pine Exd     M  S1400   \n",
       "3    4  1102210805539       Pine Exn     M  S1640   \n",
       "4    5  1102210805533     E Pine Exn     M  S1640   \n",
       "\n",
       "                                                geom  \n",
       "0  0105000020AD10000001000000010200000046000000F4...  \n",
       "1  0105000020AD10000001000000010200000015000000BD...  \n",
       "2  0105000020AD1000000100000001020000002100000000...  \n",
       "3  0105000020AD1000000100000001020000000200000019...  \n",
       "4  0105000020AD1000000100000001020000000200000019...  "
      ]
     },
     "execution_count": 85,
     "metadata": {},
     "output_type": "execute_result"
    }
   ],
   "source": [
    "query = \"\"\"\n",
    "\n",
    "select * \n",
    "from tl_2016_35049_roads\n",
    "limit 5\n",
    "\n",
    "\"\"\"\n",
    "\n",
    "data= psql.read_sql(query, conn)\n",
    "data"
   ]
  },
  {
   "cell_type": "code",
   "execution_count": 77,
   "id": "c73a3b5d",
   "metadata": {},
   "outputs": [
    {
     "data": {
      "text/html": [
       "<div>\n",
       "<style scoped>\n",
       "    .dataframe tbody tr th:only-of-type {\n",
       "        vertical-align: middle;\n",
       "    }\n",
       "\n",
       "    .dataframe tbody tr th {\n",
       "        vertical-align: top;\n",
       "    }\n",
       "\n",
       "    .dataframe thead th {\n",
       "        text-align: right;\n",
       "    }\n",
       "</style>\n",
       "<table border=\"1\" class=\"dataframe\">\n",
       "  <thead>\n",
       "    <tr style=\"text-align: right;\">\n",
       "      <th></th>\n",
       "      <th>gid</th>\n",
       "    </tr>\n",
       "  </thead>\n",
       "  <tbody>\n",
       "    <tr>\n",
       "      <th>count</th>\n",
       "      <td>5.000000</td>\n",
       "    </tr>\n",
       "    <tr>\n",
       "      <th>mean</th>\n",
       "      <td>3.000000</td>\n",
       "    </tr>\n",
       "    <tr>\n",
       "      <th>std</th>\n",
       "      <td>1.581139</td>\n",
       "    </tr>\n",
       "    <tr>\n",
       "      <th>min</th>\n",
       "      <td>1.000000</td>\n",
       "    </tr>\n",
       "    <tr>\n",
       "      <th>25%</th>\n",
       "      <td>2.000000</td>\n",
       "    </tr>\n",
       "    <tr>\n",
       "      <th>50%</th>\n",
       "      <td>3.000000</td>\n",
       "    </tr>\n",
       "    <tr>\n",
       "      <th>75%</th>\n",
       "      <td>4.000000</td>\n",
       "    </tr>\n",
       "    <tr>\n",
       "      <th>max</th>\n",
       "      <td>5.000000</td>\n",
       "    </tr>\n",
       "  </tbody>\n",
       "</table>\n",
       "</div>"
      ],
      "text/plain": [
       "            gid\n",
       "count  5.000000\n",
       "mean   3.000000\n",
       "std    1.581139\n",
       "min    1.000000\n",
       "25%    2.000000\n",
       "50%    3.000000\n",
       "75%    4.000000\n",
       "max    5.000000"
      ]
     },
     "execution_count": 77,
     "metadata": {},
     "output_type": "execute_result"
    }
   ],
   "source": [
    "data.describe()"
   ]
  },
  {
   "cell_type": "markdown",
   "id": "76229fd8",
   "metadata": {},
   "source": [
    "### Convert your results into a Json file "
   ]
  },
  {
   "cell_type": "code",
   "execution_count": 73,
   "id": "c91a791f",
   "metadata": {},
   "outputs": [
    {
     "name": "stdout",
     "output_type": "stream",
     "text": [
      "{\"schema\":{\"fields\":[{\"name\":\"index\",\"type\":\"integer\"},{\"name\":\"gid\",\"type\":\"integer\"},{\"name\":\"linearid\",\"type\":\"string\"},{\"name\":\"fullname\",\"type\":\"string\"},{\"name\":\"rttyp\",\"type\":\"string\"},{\"name\":\"mtfcc\",\"type\":\"string\"},{\"name\":\"geom\",\"type\":\"string\"}],\"primaryKey\":[\"index\"],\"pandas_version\":\"0.20.0\"},\"data\":[{\"index\":0,\"gid\":1,\"linearid\":\"1103671872380\",\"fullname\":\"Southfork Exd\",\"rttyp\":\"M\",\"mtfcc\":\"S1400\",\"geom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},{\"index\":1,\"gid\":2,\"linearid\":\"1103670118522\",\"fullname\":\"Swartz Ln Exd\",\"rttyp\":\"M\",\"mtfcc\":\"S1400\",\"geom\":\"0105000020AD10000001000000010200000015000000BD50C07630865AC04C70EA03C9C7414030DE8FDB2F865AC00490DAC4C9C741406B10E6762F865AC0C26C020CCBC74140DC9DB5DB2E865AC024FE28EACCC741401EA7E8482E865AC049A0C1A6CEC74140AD4D637B2D865AC0D007CBD8D0C74140D714C8EC2C865AC03A56293DD3C741400D7041B62C865AC01518B2BAD5C74140AE6708C72C865AC013B01D8CD8C74140E97FB9162D865AC0FA1F60ADDAC7414018EAB0C22D865AC0BFB9BF7ADCC741406553AEF02E865AC0C9332F87DDC74140CFBBB1A030865AC05F7D3CF4DDC7414022E2E65432865AC0D0F0660DDEC74140E57B462234865AC09F6CCA15DEC74140AF06280D35865AC09F6CCA15DEC74140613596B036865AC0BD8575E3DDC7414038548CF337865AC07C96E7C1DDC741402A8C2D0439865AC09AAF928FDDC74140D6FD63213A865AC0C9332F87DDC74140AC36FFAF3A865AC0C9332F87DDC74140\"},{\"index\":2,\"gid\":3,\"linearid\":\"1101039811928\",\"fullname\":\"E Pine Exd\",\"rttyp\":\"M\",\"mtfcc\":\"S1400\",\"geom\":\"0105000020AD1000000100000001020000002100000000A8E2C62D815AC0D8722EC555BD41408FAF3DB324815AC0023A933655BD414054AEF02E17815AC07B9E3F6D54BD41402084807C09815AC098B7EA3A54BD41405BB6D61709815AC098B7EA3A54BD4140AAEFFCA204815AC0874CF91054BD414095490D6D00815AC058C85C1954BD4140AEF36F97FD805AC058C85C1954BD4140F2B22616F8805AC098B7EA3A54BD414007EE409DF2805AC0AA22DC6454BD4140475854C4E9805AC02E01F8A754BD41404FCB0F5CE5805AC01B96067E54BD4140C18C2958E3805AC098B7EA3A54BD41404DC45BE7DF805AC0EC45B41D53BD41407D629D2ADF805AC00A5F5FEB52BD4140C442AD69DE805AC0F8F36DC152BD41400C3D62F4DC805AC00A5F5FEB52BD4140C2559E40D8805AC016D9CEF753BD414092054CE0D6805AC0874CF91054BD414081E84999D4805AC0C73B873254BD4140F511F8C3CF805AC02744C02154BD4140D53F8864C8805AC0B6D0950854BD4140F01D3526C4805AC0D4E940D653BD414006F52D73BA805AC0627616BD53BD414051BF0B5BB3805AC093FAB2B453BD4140340EF5BBB0805AC0C27E4FAC53BD4140842D76FBAC805AC0F302ECA353BD4140C7B8E2E2A8805AC0F302ECA353BD414093C5FD47A6805AC0F302ECA353BD4140C619C39CA0805AC0F302ECA353BD414057D7A19A92805AC0F302ECA353BD41401650A8A78F805AC0F302ECA353BD41401920D1048A805AC093FAB2B453BD4140\"},{\"index\":3,\"gid\":4,\"linearid\":\"1102210805539\",\"fullname\":\"Pine Exn\",\"rttyp\":\"M\",\"mtfcc\":\"S1640\",\"geom\":\"0105000020AD100000010000000102000000020000001920D1048A805AC093FAB2B453BD414082C98D226B805AC02744C02154BD4140\"},{\"index\":4,\"gid\":5,\"linearid\":\"1102210805533\",\"fullname\":\"E Pine Exn\",\"rttyp\":\"M\",\"mtfcc\":\"S1640\",\"geom\":\"0105000020AD100000010000000102000000020000001920D1048A805AC093FAB2B453BD414082C98D226B805AC02744C02154BD4140\"}]}\n",
      "{\"schema\":{\"fields\":[{\"name\":\"index\",\"type\":\"integer\"},{\"name\":\"gid\",\"type\":\"integer\"},{\"name\":\"linearid\",\"type\":\"string\"},{\"name\":\"fullname\",\"type\":\"string\"},{\"name\":\"rttyp\",\"type\":\"string\"},{\"name\":\"mtfcc\",\"type\":\"string\"},{\"name\":\"geom\",\"type\":\"string\"}],\"primaryKey\":[\"index\"],\"pandas_version\":\"0.20.0\"},\"data\":[{\"index\":0,\"gid\":1,\"linearid\":\"1103671872380\",\"fullname\":\"Southfork Exd\",\"rttyp\":\"M\",\"mtfcc\":\"S1400\",\"geom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},{\"index\":1,\"gid\":2,\"linearid\":\"1103670118522\",\"fullname\":\"Swartz Ln Exd\",\"rttyp\":\"M\",\"mtfcc\":\"S1400\",\"geom\":\"0105000020AD10000001000000010200000015000000BD50C07630865AC04C70EA03C9C7414030DE8FDB2F865AC00490DAC4C9C741406B10E6762F865AC0C26C020CCBC74140DC9DB5DB2E865AC024FE28EACCC741401EA7E8482E865AC049A0C1A6CEC74140AD4D637B2D865AC0D007CBD8D0C74140D714C8EC2C865AC03A56293DD3C741400D7041B62C865AC01518B2BAD5C74140AE6708C72C865AC013B01D8CD8C74140E97FB9162D865AC0FA1F60ADDAC7414018EAB0C22D865AC0BFB9BF7ADCC741406553AEF02E865AC0C9332F87DDC74140CFBBB1A030865AC05F7D3CF4DDC7414022E2E65432865AC0D0F0660DDEC74140E57B462234865AC09F6CCA15DEC74140AF06280D35865AC09F6CCA15DEC74140613596B036865AC0BD8575E3DDC7414038548CF337865AC07C96E7C1DDC741402A8C2D0439865AC09AAF928FDDC74140D6FD63213A865AC0C9332F87DDC74140AC36FFAF3A865AC0C9332F87DDC74140\"},{\"index\":2,\"gid\":3,\"linearid\":\"1101039811928\",\"fullname\":\"E Pine Exd\",\"rttyp\":\"M\",\"mtfcc\":\"S1400\",\"geom\":\"0105000020AD1000000100000001020000002100000000A8E2C62D815AC0D8722EC555BD41408FAF3DB324815AC0023A933655BD414054AEF02E17815AC07B9E3F6D54BD41402084807C09815AC098B7EA3A54BD41405BB6D61709815AC098B7EA3A54BD4140AAEFFCA204815AC0874CF91054BD414095490D6D00815AC058C85C1954BD4140AEF36F97FD805AC058C85C1954BD4140F2B22616F8805AC098B7EA3A54BD414007EE409DF2805AC0AA22DC6454BD4140475854C4E9805AC02E01F8A754BD41404FCB0F5CE5805AC01B96067E54BD4140C18C2958E3805AC098B7EA3A54BD41404DC45BE7DF805AC0EC45B41D53BD41407D629D2ADF805AC00A5F5FEB52BD4140C442AD69DE805AC0F8F36DC152BD41400C3D62F4DC805AC00A5F5FEB52BD4140C2559E40D8805AC016D9CEF753BD414092054CE0D6805AC0874CF91054BD414081E84999D4805AC0C73B873254BD4140F511F8C3CF805AC02744C02154BD4140D53F8864C8805AC0B6D0950854BD4140F01D3526C4805AC0D4E940D653BD414006F52D73BA805AC0627616BD53BD414051BF0B5BB3805AC093FAB2B453BD4140340EF5BBB0805AC0C27E4FAC53BD4140842D76FBAC805AC0F302ECA353BD4140C7B8E2E2A8805AC0F302ECA353BD414093C5FD47A6805AC0F302ECA353BD4140C619C39CA0805AC0F302ECA353BD414057D7A19A92805AC0F302ECA353BD41401650A8A78F805AC0F302ECA353BD41401920D1048A805AC093FAB2B453BD4140\"},{\"index\":3,\"gid\":4,\"linearid\":\"1102210805539\",\"fullname\":\"Pine Exn\",\"rttyp\":\"M\",\"mtfcc\":\"S1640\",\"geom\":\"0105000020AD100000010000000102000000020000001920D1048A805AC093FAB2B453BD414082C98D226B805AC02744C02154BD4140\"},{\"index\":4,\"gid\":5,\"linearid\":\"1102210805533\",\"fullname\":\"E Pine Exn\",\"rttyp\":\"M\",\"mtfcc\":\"S1640\",\"geom\":\"0105000020AD100000010000000102000000020000001920D1048A805AC093FAB2B453BD414082C98D226B805AC02744C02154BD4140\"}]}\n"
     ]
    }
   ],
   "source": [
    "\n",
    "### table, records,split,index,columns,values\n",
    "print(data.to_json(orient ='table'))\n",
    "### table, records,split,index,columns,values\n",
    "print(data.to_json(orient ='table'))"
   ]
  },
  {
   "cell_type": "markdown",
   "id": "31e3d011",
   "metadata": {},
   "source": [
    "### Prepare an extensive profile of your data"
   ]
  },
  {
   "cell_type": "code",
   "execution_count": null,
   "id": "20a4d021",
   "metadata": {},
   "outputs": [],
   "source": [
    "\n",
    "#profile = pp.ProfileReport(data)\n",
    "#profile.to_file(\"output1.html\")\n",
    "#profile = pp.ProfileReport(data)\n",
    "#profile.to_file(\"output1.html\")"
   ]
  },
  {
   "cell_type": "markdown",
   "id": "8a2500be",
   "metadata": {},
   "source": [
    "# Make sure you close your connection.\n",
    "If we don't close the connection, it will lead to connection memory leakage. Unless/until application server/web server is shut down, connection will remain activate even though the user logs out.\n",
    "\n",
    "There are additional reasons. Suppose database server has 10 connections available and 10 clients request for the connection. If the database sever grants all of them, and after their usage they are not closed, the database server would not be able to provide a connections for another request. For that reason we need to close them - it is mandatory.\n",
    "\n",
    "Furthermore, it might lead to some mischievous activities regarding the integrity of the database. https://stackoverflow.com/questions/25864235/why-we-should-close-the-connection-in-jdbc-if-we-dont-do-it-what-will-happen"
   ]
  },
  {
   "cell_type": "code",
   "execution_count": 78,
   "id": "eac69301",
   "metadata": {},
   "outputs": [
    {
     "name": "stdout",
     "output_type": "stream",
     "text": [
      "connection has been closed!!\n"
     ]
    }
   ],
   "source": [
    "try:\n",
    "    conn.commit()\n",
    "    conn.close()\n",
    "    print(\"connection has been closed!!\")\n",
    "except: \n",
    "    print(\"connection already closed\")"
   ]
  }
 ],
 "metadata": {
  "kernelspec": {
   "display_name": "Python 3",
   "language": "python",
   "name": "python3"
  },
  "language_info": {
   "codemirror_mode": {
    "name": "ipython",
    "version": 3
   },
   "file_extension": ".py",
   "mimetype": "text/x-python",
   "name": "python",
   "nbconvert_exporter": "python",
   "pygments_lexer": "ipython3",
   "version": "3.8.8"
  }
 },
 "nbformat": 4,
 "nbformat_minor": 5
}
