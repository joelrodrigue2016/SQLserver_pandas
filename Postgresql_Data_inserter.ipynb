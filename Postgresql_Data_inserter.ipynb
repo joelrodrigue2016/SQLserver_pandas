{
 "cells": [
  {
   "cell_type": "markdown",
   "id": "a20cfe83",
   "metadata": {},
   "source": [
    "## Postgresql connection with python\n",
    "PostgreSQL, also known as Postgres, is a free and open-source relational database management system emphasizing extensibility and SQL compliance. It was originally named POSTGRES, referring to its origins as a successor to the Ingres database developed at the University of California, Berkeley."
   ]
  },
  {
   "cell_type": "code",
   "execution_count": 41,
   "id": "bb189c3b",
   "metadata": {},
   "outputs": [
    {
     "name": "stdout",
     "output_type": "stream",
     "text": [
      "Opened database successfully\n"
     ]
    }
   ],
   "source": [
    "#!/usr/bin/python\n",
    "\n",
    "try:\n",
    "    import psycopg2\n",
    "    import pandas as pd\n",
    "    import pandas.io.sql as psql\n",
    "    import numpy as np\n",
    "    from matplotlib import pyplot as plt\n",
    "    from IPython.display import display\n",
    "    import os\n",
    "    #import pandas_profiling as pp\n",
    "\n",
    "\n",
    "\n",
    "\n",
    "    database = \"postgres\"\n",
    "    user = \"postgres\"\n",
    "    password = 3715\n",
    "    host = \"localhost\"\n",
    "    port = \"5432\"\n",
    "\n",
    "    conn = psycopg2.connect(database = database, user = user, password =password, host = host, port = port)\n",
    "\n",
    "    print (\"Opened database successfully\")\n",
    "\n",
    "except:\n",
    "    print(\"------something went wrong------\")\n",
    " "
   ]
  },
  {
   "cell_type": "markdown",
   "id": "77059a6d",
   "metadata": {},
   "source": [
    "## Here we can make sure that the all rows and columns are displayed. "
   ]
  },
  {
   "cell_type": "code",
   "execution_count": 42,
   "id": "06d10b5b",
   "metadata": {},
   "outputs": [],
   "source": [
    "pd.options.display.max_rows = None\n",
    "pd.options.display.max_columns = None"
   ]
  },
  {
   "cell_type": "markdown",
   "id": "0f01436a",
   "metadata": {},
   "source": [
    "## Only use this in order to create tables"
   ]
  },
  {
   "cell_type": "code",
   "execution_count": 43,
   "id": "1776ec12",
   "metadata": {},
   "outputs": [
    {
     "name": "stdout",
     "output_type": "stream",
     "text": [
      "Table created successfully!!!\n"
     ]
    }
   ],
   "source": [
    "###use this query to create tables\n",
    "cur = conn.cursor()\n",
    "cur.execute('''\n",
    "\n",
    "\n",
    "CREATE TABLE CRICKETERS (\n",
    "   First_Name VARCHAR(255),\n",
    "   Last_Name VARCHAR(255),\n",
    "   Age INT,\n",
    "   Place_Of_Birth VARCHAR(255),\n",
    "   Country VARCHAR(255)\n",
    ");\n",
    "      \n",
    "      \n",
    "      \n",
    "''')\n",
    "\n",
    "conn.commit() # <--- makes sure the change is shown in the database\n",
    "print (\"Table created successfully!!!\")"
   ]
  },
  {
   "cell_type": "markdown",
   "id": "760931dc",
   "metadata": {},
   "source": [
    "#### Enter data into the table that was created"
   ]
  },
  {
   "cell_type": "code",
   "execution_count": 57,
   "id": "fa282c28",
   "metadata": {},
   "outputs": [
    {
     "name": "stdout",
     "output_type": "stream",
     "text": [
      "Enter First name: Fareed\n",
      "Enter Lastname: Zakariah\n",
      "Enter age: 50\n",
      "Enter Place of Birth: Delhi\n",
      "Enter Country: India\n",
      "Values have been entered sucessfully!!!\n"
     ]
    }
   ],
   "source": [
    "###use this query to create tables\n",
    "First_Name = input(\"Enter First name: \")\n",
    "Last_Name = input(\"Enter Lastname: \")\n",
    "Age = input(\"Enter age: \")\n",
    "Place_Of_Birth = input(\"Enter Place of Birth: \")\n",
    "Country = input(\"Enter Country: \")\n",
    "\n",
    "cur = conn.cursor()\n",
    "cur.execute(f'''\n",
    "\n",
    "insert into CRICKETERS (\n",
    "   First_Name, Last_Name, Age, Place_Of_Birth, Country) \n",
    "   values('{First_Name}', '{Last_Name}', {Age}, '{Place_Of_Birth }', '{Country}');\n",
    "      \n",
    "   \n",
    "      \n",
    "      \n",
    "''')\n",
    "\n",
    "conn.commit() # <--- makes sure the change is shown in the database\n",
    "print (\"Values have been entered sucessfully!!!\")"
   ]
  },
  {
   "cell_type": "code",
   "execution_count": 58,
   "id": "ae814f11",
   "metadata": {},
   "outputs": [
    {
     "data": {
      "text/html": [
       "<div>\n",
       "<style scoped>\n",
       "    .dataframe tbody tr th:only-of-type {\n",
       "        vertical-align: middle;\n",
       "    }\n",
       "\n",
       "    .dataframe tbody tr th {\n",
       "        vertical-align: top;\n",
       "    }\n",
       "\n",
       "    .dataframe thead th {\n",
       "        text-align: right;\n",
       "    }\n",
       "</style>\n",
       "<table border=\"1\" class=\"dataframe\">\n",
       "  <thead>\n",
       "    <tr style=\"text-align: right;\">\n",
       "      <th></th>\n",
       "      <th>first_name</th>\n",
       "      <th>last_name</th>\n",
       "      <th>age</th>\n",
       "      <th>place_of_birth</th>\n",
       "      <th>country</th>\n",
       "    </tr>\n",
       "  </thead>\n",
       "  <tbody>\n",
       "    <tr>\n",
       "      <th>0</th>\n",
       "      <td>Shikhar</td>\n",
       "      <td>Dhawan</td>\n",
       "      <td>33</td>\n",
       "      <td>Delhi</td>\n",
       "      <td>India</td>\n",
       "    </tr>\n",
       "    <tr>\n",
       "      <th>1</th>\n",
       "      <td>Joel</td>\n",
       "      <td>Rodriguez</td>\n",
       "      <td>34</td>\n",
       "      <td>Dominican Republic</td>\n",
       "      <td>United States</td>\n",
       "    </tr>\n",
       "    <tr>\n",
       "      <th>2</th>\n",
       "      <td>Stephanie</td>\n",
       "      <td>Rodriguez</td>\n",
       "      <td>29</td>\n",
       "      <td>Georgia</td>\n",
       "      <td>United States</td>\n",
       "    </tr>\n",
       "    <tr>\n",
       "      <th>3</th>\n",
       "      <td>Moises</td>\n",
       "      <td>Rodriguez</td>\n",
       "      <td>32</td>\n",
       "      <td>Higuey</td>\n",
       "      <td>Dominican Republic</td>\n",
       "    </tr>\n",
       "    <tr>\n",
       "      <th>4</th>\n",
       "      <td>Sarai</td>\n",
       "      <td>Rodriguez</td>\n",
       "      <td>36</td>\n",
       "      <td>Higuey</td>\n",
       "      <td>Dominican Republic</td>\n",
       "    </tr>\n",
       "    <tr>\n",
       "      <th>5</th>\n",
       "      <td>Saagar</td>\n",
       "      <td>Enjeti</td>\n",
       "      <td>28</td>\n",
       "      <td>India</td>\n",
       "      <td>United States</td>\n",
       "    </tr>\n",
       "    <tr>\n",
       "      <th>6</th>\n",
       "      <td>Fareed</td>\n",
       "      <td>Zakariah</td>\n",
       "      <td>50</td>\n",
       "      <td>Delhi</td>\n",
       "      <td>India</td>\n",
       "    </tr>\n",
       "  </tbody>\n",
       "</table>\n",
       "</div>"
      ],
      "text/plain": [
       "  first_name  last_name  age      place_of_birth             country\n",
       "0    Shikhar     Dhawan   33               Delhi               India\n",
       "1       Joel  Rodriguez   34  Dominican Republic       United States\n",
       "2  Stephanie  Rodriguez   29             Georgia       United States\n",
       "3     Moises  Rodriguez   32              Higuey  Dominican Republic\n",
       "4      Sarai  Rodriguez   36              Higuey  Dominican Republic\n",
       "5     Saagar     Enjeti   28               India       United States\n",
       "6     Fareed   Zakariah   50               Delhi               India"
      ]
     },
     "execution_count": 58,
     "metadata": {},
     "output_type": "execute_result"
    }
   ],
   "source": [
    "query = \"\"\"\n",
    "\n",
    "select * from \n",
    "public.cricketers\n",
    "\n",
    "\"\"\"\n",
    "\n",
    "data = psql.read_sql(query, conn)\n",
    "data"
   ]
  },
  {
   "cell_type": "code",
   "execution_count": 59,
   "id": "0ace6cbe",
   "metadata": {},
   "outputs": [
    {
     "data": {
      "text/html": [
       "<div>\n",
       "<style scoped>\n",
       "    .dataframe tbody tr th:only-of-type {\n",
       "        vertical-align: middle;\n",
       "    }\n",
       "\n",
       "    .dataframe tbody tr th {\n",
       "        vertical-align: top;\n",
       "    }\n",
       "\n",
       "    .dataframe thead th {\n",
       "        text-align: right;\n",
       "    }\n",
       "</style>\n",
       "<table border=\"1\" class=\"dataframe\">\n",
       "  <thead>\n",
       "    <tr style=\"text-align: right;\">\n",
       "      <th></th>\n",
       "      <th>age</th>\n",
       "    </tr>\n",
       "  </thead>\n",
       "  <tbody>\n",
       "    <tr>\n",
       "      <th>count</th>\n",
       "      <td>7.000000</td>\n",
       "    </tr>\n",
       "    <tr>\n",
       "      <th>mean</th>\n",
       "      <td>34.571429</td>\n",
       "    </tr>\n",
       "    <tr>\n",
       "      <th>std</th>\n",
       "      <td>7.345228</td>\n",
       "    </tr>\n",
       "    <tr>\n",
       "      <th>min</th>\n",
       "      <td>28.000000</td>\n",
       "    </tr>\n",
       "    <tr>\n",
       "      <th>25%</th>\n",
       "      <td>30.500000</td>\n",
       "    </tr>\n",
       "    <tr>\n",
       "      <th>50%</th>\n",
       "      <td>33.000000</td>\n",
       "    </tr>\n",
       "    <tr>\n",
       "      <th>75%</th>\n",
       "      <td>35.000000</td>\n",
       "    </tr>\n",
       "    <tr>\n",
       "      <th>max</th>\n",
       "      <td>50.000000</td>\n",
       "    </tr>\n",
       "  </tbody>\n",
       "</table>\n",
       "</div>"
      ],
      "text/plain": [
       "             age\n",
       "count   7.000000\n",
       "mean   34.571429\n",
       "std     7.345228\n",
       "min    28.000000\n",
       "25%    30.500000\n",
       "50%    33.000000\n",
       "75%    35.000000\n",
       "max    50.000000"
      ]
     },
     "execution_count": 59,
     "metadata": {},
     "output_type": "execute_result"
    }
   ],
   "source": [
    "data.describe()"
   ]
  },
  {
   "cell_type": "markdown",
   "id": "2a2fc43b",
   "metadata": {},
   "source": [
    "#### Convert your results into a Json file"
   ]
  },
  {
   "cell_type": "code",
   "execution_count": 60,
   "id": "7f534fcb",
   "metadata": {},
   "outputs": [
    {
     "name": "stdout",
     "output_type": "stream",
     "text": [
      "{\"schema\":{\"fields\":[{\"name\":\"index\",\"type\":\"integer\"},{\"name\":\"first_name\",\"type\":\"string\"},{\"name\":\"last_name\",\"type\":\"string\"},{\"name\":\"age\",\"type\":\"integer\"},{\"name\":\"place_of_birth\",\"type\":\"string\"},{\"name\":\"country\",\"type\":\"string\"}],\"primaryKey\":[\"index\"],\"pandas_version\":\"0.20.0\"},\"data\":[{\"index\":0,\"first_name\":\"Shikhar\",\"last_name\":\"Dhawan\",\"age\":33,\"place_of_birth\":\"Delhi\",\"country\":\"India\"},{\"index\":1,\"first_name\":\"Joel\",\"last_name\":\"Rodriguez\",\"age\":34,\"place_of_birth\":\"Dominican Republic\",\"country\":\"United States\"},{\"index\":2,\"first_name\":\"Stephanie\",\"last_name\":\"Rodriguez\",\"age\":29,\"place_of_birth\":\"Georgia\",\"country\":\"United States\"},{\"index\":3,\"first_name\":\"Moises\",\"last_name\":\"Rodriguez\",\"age\":32,\"place_of_birth\":\"Higuey\",\"country\":\"Dominican Republic\"},{\"index\":4,\"first_name\":\"Sarai\",\"last_name\":\"Rodriguez\",\"age\":36,\"place_of_birth\":\"Higuey\",\"country\":\"Dominican Republic\"},{\"index\":5,\"first_name\":\"Saagar\",\"last_name\":\"Enjeti\",\"age\":28,\"place_of_birth\":\"India\",\"country\":\"United States\"},{\"index\":6,\"first_name\":\"Fareed\",\"last_name\":\"Zakariah\",\"age\":50,\"place_of_birth\":\"Delhi\",\"country\":\"India\"}]}\n",
      "{\"schema\":{\"fields\":[{\"name\":\"index\",\"type\":\"integer\"},{\"name\":\"first_name\",\"type\":\"string\"},{\"name\":\"last_name\",\"type\":\"string\"},{\"name\":\"age\",\"type\":\"integer\"},{\"name\":\"place_of_birth\",\"type\":\"string\"},{\"name\":\"country\",\"type\":\"string\"}],\"primaryKey\":[\"index\"],\"pandas_version\":\"0.20.0\"},\"data\":[{\"index\":0,\"first_name\":\"Shikhar\",\"last_name\":\"Dhawan\",\"age\":33,\"place_of_birth\":\"Delhi\",\"country\":\"India\"},{\"index\":1,\"first_name\":\"Joel\",\"last_name\":\"Rodriguez\",\"age\":34,\"place_of_birth\":\"Dominican Republic\",\"country\":\"United States\"},{\"index\":2,\"first_name\":\"Stephanie\",\"last_name\":\"Rodriguez\",\"age\":29,\"place_of_birth\":\"Georgia\",\"country\":\"United States\"},{\"index\":3,\"first_name\":\"Moises\",\"last_name\":\"Rodriguez\",\"age\":32,\"place_of_birth\":\"Higuey\",\"country\":\"Dominican Republic\"},{\"index\":4,\"first_name\":\"Sarai\",\"last_name\":\"Rodriguez\",\"age\":36,\"place_of_birth\":\"Higuey\",\"country\":\"Dominican Republic\"},{\"index\":5,\"first_name\":\"Saagar\",\"last_name\":\"Enjeti\",\"age\":28,\"place_of_birth\":\"India\",\"country\":\"United States\"},{\"index\":6,\"first_name\":\"Fareed\",\"last_name\":\"Zakariah\",\"age\":50,\"place_of_birth\":\"Delhi\",\"country\":\"India\"}]}\n"
     ]
    }
   ],
   "source": [
    "### table, records,split,index,columns,values\n",
    "print(data.to_json(orient ='table'))\n",
    "### table, records,split,index,columns,values\n",
    "print(data.to_json(orient ='table'))"
   ]
  },
  {
   "cell_type": "code",
   "execution_count": null,
   "id": "ce4d81f6",
   "metadata": {},
   "outputs": [],
   "source": []
  },
  {
   "cell_type": "markdown",
   "id": "25ecbcec",
   "metadata": {},
   "source": [
    "# Make sure you close your connection.\n",
    "If we don't close the connection, it will lead to connection memory leakage. Unless/until application server/web server is shut down, connection will remain activate even though the user logs out.\n",
    "\n",
    "There are additional reasons. Suppose database server has 10 connections available and 10 clients request for the connection. If the database sever grants all of them, and after their usage they are not closed, the database server would not be able to provide a connections for another request. For that reason we need to close them - it is mandatory.\n",
    "\n",
    "Furthermore, it might lead to some mischievous activities regarding the integrity of the database. https://stackoverflow.com/questions/25864235/why-we-should-close-the-connection-in-jdbc-if-we-dont-do-it-what-will-happen"
   ]
  },
  {
   "cell_type": "code",
   "execution_count": 40,
   "id": "c7595f2d",
   "metadata": {},
   "outputs": [
    {
     "name": "stdout",
     "output_type": "stream",
     "text": [
      "connection has been closed!!\n"
     ]
    }
   ],
   "source": [
    "try:\n",
    "    conn.commit()\n",
    "    conn.close()\n",
    "    print(\"connection has been closed!!\")\n",
    "except: \n",
    "    print(\"connection already closed\")"
   ]
  },
  {
   "cell_type": "code",
   "execution_count": null,
   "id": "32c0de2e",
   "metadata": {},
   "outputs": [],
   "source": []
  }
 ],
 "metadata": {
  "kernelspec": {
   "display_name": "Python 3 (ipykernel)",
   "language": "python",
   "name": "python3"
  },
  "language_info": {
   "codemirror_mode": {
    "name": "ipython",
    "version": 3
   },
   "file_extension": ".py",
   "mimetype": "text/x-python",
   "name": "python",
   "nbconvert_exporter": "python",
   "pygments_lexer": "ipython3",
   "version": "3.8.12"
  }
 },
 "nbformat": 4,
 "nbformat_minor": 5
}
