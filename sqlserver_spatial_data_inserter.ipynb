{
 "cells": [
  {
   "cell_type": "markdown",
   "id": "dea9ce75",
   "metadata": {},
   "source": [
    "# Microsoft SQL Server:\n",
    "is a relational database management system developed by Microsoft. As a database server, it is a software product with the primary function of storing and retrieving data as requested by other software applications—which may run either on the same computer or on another computer across a network. "
   ]
  },
  {
   "cell_type": "markdown",
   "id": "b2238fd6",
   "metadata": {},
   "source": [
    "#### Load modules"
   ]
  },
  {
   "cell_type": "code",
   "execution_count": 49,
   "id": "3b3e5437",
   "metadata": {},
   "outputs": [],
   "source": [
    "import pyodbc \n",
    "import pandas as pd\n",
    "import numpy as np\n",
    "from matplotlib import pyplot as plt\n",
    "from IPython.display import display\n",
    "#import pandas_profiling as pp\n",
    "pd.options.display.max_rows = None\n",
    "pd.options.display.max_columns = None"
   ]
  },
  {
   "cell_type": "markdown",
   "id": "3d84eb4b",
   "metadata": {},
   "source": [
    "### Establishing connection"
   ]
  },
  {
   "cell_type": "code",
   "execution_count": 50,
   "id": "62dc7759",
   "metadata": {},
   "outputs": [
    {
     "name": "stdout",
     "output_type": "stream",
     "text": [
      "Connection has been established!!!!!\n"
     ]
    }
   ],
   "source": [
    "try:\n",
    "    pd.set_option('display.max_columns', None)\n",
    "    conn = pyodbc.connect('Driver={SQL Server};'\n",
    "                          'Server=LAPTOP-8MGLLLEQ;'\n",
    "                          'Database=python_test;'\n",
    "                          'Trusted_Connection=yes;')\n",
    "    cursor = conn.cursor()\n",
    "    print(\"Connection has been established!!!!!\")\n",
    "    \n",
    "except:\n",
    "    print(\"------something went wrong------\")"
   ]
  },
  {
   "cell_type": "code",
   "execution_count": 62,
   "id": "74e02a26",
   "metadata": {},
   "outputs": [
    {
     "name": "stdout",
     "output_type": "stream",
     "text": [
      "Table has been created!!!\n"
     ]
    }
   ],
   "source": [
    "\n",
    "cursor = conn.cursor()\n",
    "\n",
    "cursor.execute(\"\"\"\n",
    "                    CREATE TABLE place_test (\n",
    "                    place nvarchar(50),\n",
    "                    activity nvarchar(50),\n",
    "                    latitude DECIMAL(8,6)  NOT NULL,\n",
    "                    longitude DECIMAL(9,6)  NOT NULL\n",
    "                    \n",
    "                      )\n",
    "\n",
    "\n",
    "\n",
    "\"\"\")\n",
    "\n",
    "conn.commit()\n",
    "\n",
    "print(\"Table has been created!!!\")"
   ]
  },
  {
   "cell_type": "code",
   "execution_count": 72,
   "id": "03162e91",
   "metadata": {},
   "outputs": [
    {
     "name": "stdout",
     "output_type": "stream",
     "text": [
      "Enter Place:     Publix Super Market At Sarasota Crossings\n",
      "Enter activity:     shopping\n",
      "Enter latutude:     29.616340\n",
      "Enter longitude:     -98.509860\n",
      "Values have been entered into the database!!\n"
     ]
    }
   ],
   "source": [
    "place = input(\"Enter Place:     \")\n",
    "activity = input(\"Enter activity:     \")\n",
    "latitude =input(\"Enter latutude:     \")\n",
    "longitude = input(\"Enter longitude:     \")\n",
    "\n",
    "\n",
    "\n",
    "cursor.execute(f\"\"\"\n",
    "                    INSERT INTO place_test(place,activity,latitude,longitude)\n",
    "                    VALUES\n",
    "                    ('{place}','{activity}','{latitude }','{longitude}')\n",
    "             \n",
    "\n",
    "\n",
    "\n",
    "\"\"\")\n",
    "conn.commit()\n",
    "print(\"Values have been entered into the database!!\")"
   ]
  },
  {
   "cell_type": "code",
   "execution_count": 73,
   "id": "4c487919",
   "metadata": {},
   "outputs": [
    {
     "data": {
      "text/html": [
       "<div>\n",
       "<style scoped>\n",
       "    .dataframe tbody tr th:only-of-type {\n",
       "        vertical-align: middle;\n",
       "    }\n",
       "\n",
       "    .dataframe tbody tr th {\n",
       "        vertical-align: top;\n",
       "    }\n",
       "\n",
       "    .dataframe thead th {\n",
       "        text-align: right;\n",
       "    }\n",
       "</style>\n",
       "<table border=\"1\" class=\"dataframe\">\n",
       "  <thead>\n",
       "    <tr style=\"text-align: right;\">\n",
       "      <th></th>\n",
       "      <th>place</th>\n",
       "      <th>activity</th>\n",
       "      <th>latitude</th>\n",
       "      <th>longitude</th>\n",
       "    </tr>\n",
       "  </thead>\n",
       "  <tbody>\n",
       "    <tr>\n",
       "      <th>0</th>\n",
       "      <td>KHA</td>\n",
       "      <td>work</td>\n",
       "      <td>27.33729</td>\n",
       "      <td>-82.534798</td>\n",
       "    </tr>\n",
       "    <tr>\n",
       "      <th>1</th>\n",
       "      <td>Home</td>\n",
       "      <td>Home</td>\n",
       "      <td>27.34771</td>\n",
       "      <td>-82.447807</td>\n",
       "    </tr>\n",
       "    <tr>\n",
       "      <th>2</th>\n",
       "      <td>Eos Fitness</td>\n",
       "      <td>Gym</td>\n",
       "      <td>27.28190</td>\n",
       "      <td>-82.531940</td>\n",
       "    </tr>\n",
       "    <tr>\n",
       "      <th>3</th>\n",
       "      <td>Publix Super Market At Sarasota Crossings</td>\n",
       "      <td>shopping</td>\n",
       "      <td>29.61634</td>\n",
       "      <td>-98.509860</td>\n",
       "    </tr>\n",
       "  </tbody>\n",
       "</table>\n",
       "</div>"
      ],
      "text/plain": [
       "                                       place  activity  latitude  longitude\n",
       "0                                        KHA      work  27.33729 -82.534798\n",
       "1                                       Home      Home  27.34771 -82.447807\n",
       "2                                Eos Fitness       Gym  27.28190 -82.531940\n",
       "3  Publix Super Market At Sarasota Crossings  shopping  29.61634 -98.509860"
      ]
     },
     "metadata": {},
     "output_type": "display_data"
    }
   ],
   "source": [
    "query = \"\"\"\n",
    "select * \n",
    "from [dbo].[place_test]\n",
    "\n",
    "\"\"\"\n",
    "df = pd.read_sql(query, conn)\n",
    "\n",
    "display(df)"
   ]
  },
  {
   "cell_type": "code",
   "execution_count": 65,
   "id": "32044e19",
   "metadata": {},
   "outputs": [
    {
     "data": {
      "text/html": [
       "<div>\n",
       "<style scoped>\n",
       "    .dataframe tbody tr th:only-of-type {\n",
       "        vertical-align: middle;\n",
       "    }\n",
       "\n",
       "    .dataframe tbody tr th {\n",
       "        vertical-align: top;\n",
       "    }\n",
       "\n",
       "    .dataframe thead th {\n",
       "        text-align: right;\n",
       "    }\n",
       "</style>\n",
       "<table border=\"1\" class=\"dataframe\">\n",
       "  <thead>\n",
       "    <tr style=\"text-align: right;\">\n",
       "      <th></th>\n",
       "      <th>latitude</th>\n",
       "      <th>longitude</th>\n",
       "    </tr>\n",
       "  </thead>\n",
       "  <tbody>\n",
       "    <tr>\n",
       "      <th>count</th>\n",
       "      <td>1.00000</td>\n",
       "      <td>1.000000</td>\n",
       "    </tr>\n",
       "    <tr>\n",
       "      <th>mean</th>\n",
       "      <td>27.33729</td>\n",
       "      <td>-82.534798</td>\n",
       "    </tr>\n",
       "    <tr>\n",
       "      <th>std</th>\n",
       "      <td>NaN</td>\n",
       "      <td>NaN</td>\n",
       "    </tr>\n",
       "    <tr>\n",
       "      <th>min</th>\n",
       "      <td>27.33729</td>\n",
       "      <td>-82.534798</td>\n",
       "    </tr>\n",
       "    <tr>\n",
       "      <th>25%</th>\n",
       "      <td>27.33729</td>\n",
       "      <td>-82.534798</td>\n",
       "    </tr>\n",
       "    <tr>\n",
       "      <th>50%</th>\n",
       "      <td>27.33729</td>\n",
       "      <td>-82.534798</td>\n",
       "    </tr>\n",
       "    <tr>\n",
       "      <th>75%</th>\n",
       "      <td>27.33729</td>\n",
       "      <td>-82.534798</td>\n",
       "    </tr>\n",
       "    <tr>\n",
       "      <th>max</th>\n",
       "      <td>27.33729</td>\n",
       "      <td>-82.534798</td>\n",
       "    </tr>\n",
       "  </tbody>\n",
       "</table>\n",
       "</div>"
      ],
      "text/plain": [
       "       latitude  longitude\n",
       "count   1.00000   1.000000\n",
       "mean   27.33729 -82.534798\n",
       "std         NaN        NaN\n",
       "min    27.33729 -82.534798\n",
       "25%    27.33729 -82.534798\n",
       "50%    27.33729 -82.534798\n",
       "75%    27.33729 -82.534798\n",
       "max    27.33729 -82.534798"
      ]
     },
     "execution_count": 65,
     "metadata": {},
     "output_type": "execute_result"
    }
   ],
   "source": [
    "df.describe()"
   ]
  },
  {
   "cell_type": "markdown",
   "id": "bfa30a05",
   "metadata": {},
   "source": [
    "#### Converting data into json"
   ]
  },
  {
   "cell_type": "code",
   "execution_count": 66,
   "id": "db5e3299",
   "metadata": {},
   "outputs": [
    {
     "name": "stdout",
     "output_type": "stream",
     "text": [
      "{\"0\":{\"place\":\"KHA\",\"activity\":\"work\",\"latitude\":27.33729,\"longitude\":-82.534798}}\n"
     ]
    }
   ],
   "source": [
    "print(df.to_json(orient ='index'))"
   ]
  },
  {
   "cell_type": "markdown",
   "id": "58ef905c",
   "metadata": {},
   "source": [
    "# Make sure you close your connection.\n",
    "If we don't close the connection, it will lead to connection memory leakage. Unless/until application server/web server is shut down, connection will remain activate even though the user logs out.\n",
    "\n",
    "There are additional reasons. Suppose database server has 10 connections available and 10 clients request for the connection. If the database sever grants all of them, and after their usage they are not closed, the database server would not be able to provide a connections for another request. For that reason we need to close them - it is mandatory.\n",
    "\n",
    "Furthermore, it might lead to some mischievous activities regarding the integrity of the database. https://stackoverflow.com/questions/25864235/why-we-should-close-the-connection-in-jdbc-if-we-dont-do-it-what-will-happen"
   ]
  },
  {
   "cell_type": "code",
   "execution_count": 48,
   "id": "f418dd01",
   "metadata": {},
   "outputs": [
    {
     "name": "stdout",
     "output_type": "stream",
     "text": [
      "Connection has been closed!!\n"
     ]
    }
   ],
   "source": [
    "cursor = conn.cursor()\n",
    "cursor.close()\n",
    "print(\"Connection has been closed!!\")"
   ]
  },
  {
   "cell_type": "code",
   "execution_count": null,
   "id": "2b8738f4",
   "metadata": {},
   "outputs": [],
   "source": []
  }
 ],
 "metadata": {
  "kernelspec": {
   "display_name": "Python 3 (ipykernel)",
   "language": "python",
   "name": "python3"
  },
  "language_info": {
   "codemirror_mode": {
    "name": "ipython",
    "version": 3
   },
   "file_extension": ".py",
   "mimetype": "text/x-python",
   "name": "python",
   "nbconvert_exporter": "python",
   "pygments_lexer": "ipython3",
   "version": "3.8.12"
  }
 },
 "nbformat": 4,
 "nbformat_minor": 5
}
