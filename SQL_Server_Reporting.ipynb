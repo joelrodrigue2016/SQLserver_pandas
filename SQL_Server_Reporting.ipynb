{
 "cells": [
  {
   "cell_type": "code",
   "execution_count": 8,
   "id": "9915b657-7359-43d9-84d0-61027884f199",
   "metadata": {},
   "outputs": [],
   "source": [
    "import pyodbc \n",
    "import pandas as pd\n",
    "import numpy as np\n",
    "from matplotlib import pyplot as plt\n",
    "from IPython.display import display\n",
    "import pandas_profiling as pp"
   ]
  },
  {
   "cell_type": "code",
   "execution_count": 9,
   "id": "21e0f690-4720-4465-841c-5e806d5de443",
   "metadata": {},
   "outputs": [],
   "source": [
    "pd.options.display.max_rows = None\n",
    "pd.options.display.max_columns = None"
   ]
  },
  {
   "cell_type": "code",
   "execution_count": 10,
   "id": "da00b43c-9adc-4f1d-a5d6-e0f21ac88490",
   "metadata": {},
   "outputs": [],
   "source": [
    "pd.set_option('display.max_columns', None)\n",
    "conn = pyodbc.connect('Driver={SQL Server};'\n",
    "                      'Server=DESKTOP-5UQEVT5\\SQLEXPRESS;'\n",
    "                      'Database=gisDB;'\n",
    "                      'Trusted_Connection=yes;')\n",
    "\n",
    "cursor = conn.cursor()"
   ]
  },
  {
   "cell_type": "code",
   "execution_count": 11,
   "id": "72845ba6-855f-41ad-bad4-db5f8e1f2f3f",
   "metadata": {},
   "outputs": [
    {
     "data": {
      "text/html": [
       "<div>\n",
       "<style scoped>\n",
       "    .dataframe tbody tr th:only-of-type {\n",
       "        vertical-align: middle;\n",
       "    }\n",
       "\n",
       "    .dataframe tbody tr th {\n",
       "        vertical-align: top;\n",
       "    }\n",
       "\n",
       "    .dataframe thead th {\n",
       "        text-align: right;\n",
       "    }\n",
       "</style>\n",
       "<table border=\"1\" class=\"dataframe\">\n",
       "  <thead>\n",
       "    <tr style=\"text-align: right;\">\n",
       "      <th></th>\n",
       "      <th>station</th>\n",
       "      <th>lat</th>\n",
       "      <th>lng</th>\n",
       "      <th>geoid</th>\n",
       "      <th>state</th>\n",
       "      <th>county</th>\n",
       "      <th>tract</th>\n",
       "      <th>block</th>\n",
       "    </tr>\n",
       "  </thead>\n",
       "  <tbody>\n",
       "    <tr>\n",
       "      <th>0</th>\n",
       "      <td>1</td>\n",
       "      <td>33.626177</td>\n",
       "      <td>-98.066593</td>\n",
       "      <td>480770303021036</td>\n",
       "      <td>48</td>\n",
       "      <td>77</td>\n",
       "      <td>30302</td>\n",
       "      <td>1036</td>\n",
       "    </tr>\n",
       "    <tr>\n",
       "      <th>1</th>\n",
       "      <td>10</td>\n",
       "      <td>37.786761</td>\n",
       "      <td>-98.092724</td>\n",
       "      <td>201550018001114</td>\n",
       "      <td>20</td>\n",
       "      <td>155</td>\n",
       "      <td>1800</td>\n",
       "      <td>1114</td>\n",
       "    </tr>\n",
       "    <tr>\n",
       "      <th>2</th>\n",
       "      <td>1000</td>\n",
       "      <td>36.667908</td>\n",
       "      <td>-77.008185</td>\n",
       "      <td>511752004002068</td>\n",
       "      <td>51</td>\n",
       "      <td>175</td>\n",
       "      <td>200400</td>\n",
       "      <td>2068</td>\n",
       "    </tr>\n",
       "    <tr>\n",
       "      <th>3</th>\n",
       "      <td>1001</td>\n",
       "      <td>33.162642</td>\n",
       "      <td>-98.698637</td>\n",
       "      <td>485039504002141</td>\n",
       "      <td>48</td>\n",
       "      <td>503</td>\n",
       "      <td>950400</td>\n",
       "      <td>2141</td>\n",
       "    </tr>\n",
       "    <tr>\n",
       "      <th>4</th>\n",
       "      <td>1002</td>\n",
       "      <td>31.811688</td>\n",
       "      <td>-95.105910</td>\n",
       "      <td>480739508013036</td>\n",
       "      <td>48</td>\n",
       "      <td>73</td>\n",
       "      <td>950801</td>\n",
       "      <td>3036</td>\n",
       "    </tr>\n",
       "  </tbody>\n",
       "</table>\n",
       "</div>"
      ],
      "text/plain": [
       "  station        lat        lng            geoid state county   tract block\n",
       "0       1  33.626177 -98.066593  480770303021036    48     77   30302  1036\n",
       "1      10  37.786761 -98.092724  201550018001114    20    155    1800  1114\n",
       "2    1000  36.667908 -77.008185  511752004002068    51    175  200400  2068\n",
       "3    1001  33.162642 -98.698637  485039504002141    48    503  950400  2141\n",
       "4    1002  31.811688 -95.105910  480739508013036    48     73  950801  3036"
      ]
     },
     "metadata": {},
     "output_type": "display_data"
    }
   ],
   "source": [
    "\n",
    "query = \"\"\"\n",
    "select top 5 *\n",
    "from  [dbo].[gisdb_test]\n",
    "where geoid is not null\n",
    "\n",
    "\"\"\"\n",
    "df = pd.read_sql(query, conn)\n",
    "\n",
    "display(df)"
   ]
  },
  {
   "cell_type": "code",
   "execution_count": 12,
   "id": "c162ca0a-a6cf-4726-9465-3002c24cb950",
   "metadata": {},
   "outputs": [
    {
     "data": {
      "text/html": [
       "<div>\n",
       "<style scoped>\n",
       "    .dataframe tbody tr th:only-of-type {\n",
       "        vertical-align: middle;\n",
       "    }\n",
       "\n",
       "    .dataframe tbody tr th {\n",
       "        vertical-align: top;\n",
       "    }\n",
       "\n",
       "    .dataframe thead th {\n",
       "        text-align: right;\n",
       "    }\n",
       "</style>\n",
       "<table border=\"1\" class=\"dataframe\">\n",
       "  <thead>\n",
       "    <tr style=\"text-align: right;\">\n",
       "      <th></th>\n",
       "      <th>lat</th>\n",
       "      <th>lng</th>\n",
       "    </tr>\n",
       "  </thead>\n",
       "  <tbody>\n",
       "    <tr>\n",
       "      <th>count</th>\n",
       "      <td>5.000000</td>\n",
       "      <td>5.000000</td>\n",
       "    </tr>\n",
       "    <tr>\n",
       "      <th>mean</th>\n",
       "      <td>34.611035</td>\n",
       "      <td>-93.394410</td>\n",
       "    </tr>\n",
       "    <tr>\n",
       "      <th>std</th>\n",
       "      <td>2.510981</td>\n",
       "      <td>9.266551</td>\n",
       "    </tr>\n",
       "    <tr>\n",
       "      <th>min</th>\n",
       "      <td>31.811688</td>\n",
       "      <td>-98.698637</td>\n",
       "    </tr>\n",
       "    <tr>\n",
       "      <th>25%</th>\n",
       "      <td>33.162642</td>\n",
       "      <td>-98.092724</td>\n",
       "    </tr>\n",
       "    <tr>\n",
       "      <th>50%</th>\n",
       "      <td>33.626177</td>\n",
       "      <td>-98.066593</td>\n",
       "    </tr>\n",
       "    <tr>\n",
       "      <th>75%</th>\n",
       "      <td>36.667908</td>\n",
       "      <td>-95.105910</td>\n",
       "    </tr>\n",
       "    <tr>\n",
       "      <th>max</th>\n",
       "      <td>37.786761</td>\n",
       "      <td>-77.008185</td>\n",
       "    </tr>\n",
       "  </tbody>\n",
       "</table>\n",
       "</div>"
      ],
      "text/plain": [
       "             lat        lng\n",
       "count   5.000000   5.000000\n",
       "mean   34.611035 -93.394410\n",
       "std     2.510981   9.266551\n",
       "min    31.811688 -98.698637\n",
       "25%    33.162642 -98.092724\n",
       "50%    33.626177 -98.066593\n",
       "75%    36.667908 -95.105910\n",
       "max    37.786761 -77.008185"
      ]
     },
     "execution_count": 12,
     "metadata": {},
     "output_type": "execute_result"
    }
   ],
   "source": [
    "df.describe()\n"
   ]
  },
  {
   "cell_type": "code",
   "execution_count": 13,
   "id": "0a84aa7d-7e42-428b-8d72-3c555f925e7a",
   "metadata": {},
   "outputs": [
    {
     "name": "stdout",
     "output_type": "stream",
     "text": [
      "{\"0\":{\"station\":\"1\",\"lat\":33.62617708,\"lng\":-98.06659306,\"geoid\":\"480770303021036\",\"state\":\"48\",\"county\":\"77\",\"tract\":\"30302\",\"block\":\"1036\"},\"1\":{\"station\":\"10\",\"lat\":37.78676145,\"lng\":-98.09272377,\"geoid\":\"201550018001114\",\"state\":\"20\",\"county\":\"155\",\"tract\":\"1800\",\"block\":\"1114\"},\"2\":{\"station\":\"1000\",\"lat\":36.66790756,\"lng\":-77.00818535,\"geoid\":\"511752004002068\",\"state\":\"51\",\"county\":\"175\",\"tract\":\"200400\",\"block\":\"2068\"},\"3\":{\"station\":\"1001\",\"lat\":33.16264155,\"lng\":-98.6986372,\"geoid\":\"485039504002141\",\"state\":\"48\",\"county\":\"503\",\"tract\":\"950400\",\"block\":\"2141\"},\"4\":{\"station\":\"1002\",\"lat\":31.81168799,\"lng\":-95.10591014,\"geoid\":\"480739508013036\",\"state\":\"48\",\"county\":\"73\",\"tract\":\"950801\",\"block\":\"3036\"}}\n"
     ]
    }
   ],
   "source": [
    "\n",
    "print(df.to_json(orient ='index'))"
   ]
  },
  {
   "cell_type": "code",
   "execution_count": null,
   "id": "9a1e5bde-856c-4950-ad7f-339e7f20bf73",
   "metadata": {},
   "outputs": [
    {
     "data": {
      "application/vnd.jupyter.widget-view+json": {
       "model_id": "56b6579b805b4559a3ce21fcc28e43cc",
       "version_major": 2,
       "version_minor": 0
      },
      "text/plain": [
       "Summarize dataset:   0%|          | 0/21 [00:00<?, ?it/s]"
      ]
     },
     "metadata": {},
     "output_type": "display_data"
    }
   ],
   "source": [
    "profile = pp.ProfileReport(df)\n",
    "profile.to_file(\"output1.html\")"
   ]
  },
  {
   "cell_type": "code",
   "execution_count": null,
   "id": "1ef96353-ffd5-4a64-99c2-bf50a7e6a76c",
   "metadata": {},
   "outputs": [],
   "source": []
  },
  {
   "cell_type": "code",
   "execution_count": null,
   "id": "9f622464-0280-497b-9197-2072054e7ef5",
   "metadata": {},
   "outputs": [],
   "source": []
  },
  {
   "cell_type": "code",
   "execution_count": null,
   "id": "e8f7e56f-2055-45fc-baa8-14a5769c7fe7",
   "metadata": {},
   "outputs": [],
   "source": []
  },
  {
   "cell_type": "code",
   "execution_count": null,
   "id": "93d24c60-9a2a-4ccd-86d9-18a519ad7bcc",
   "metadata": {},
   "outputs": [],
   "source": []
  }
 ],
 "metadata": {
  "kernelspec": {
   "display_name": "Python 3",
   "language": "python",
   "name": "python3"
  },
  "language_info": {
   "codemirror_mode": {
    "name": "ipython",
    "version": 3
   },
   "file_extension": ".py",
   "mimetype": "text/x-python",
   "name": "python",
   "nbconvert_exporter": "python",
   "pygments_lexer": "ipython3",
   "version": "3.8.8"
  }
 },
 "nbformat": 4,
 "nbformat_minor": 5
}
